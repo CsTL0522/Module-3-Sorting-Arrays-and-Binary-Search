{
 "cells": [
  {
   "cell_type": "code",
   "execution_count": 11,
   "id": "c7bc228d-0ff0-4923-b758-19af3f38e7b3",
   "metadata": {},
   "outputs": [],
   "source": [
    "def sort012(arr):\n",
    "    low = mid = 0\n",
    "    high = len(arr) - 1 \n",
    "\n",
    "    while mid <= high:\n",
    "        if arr[mid] == 0:\n",
    "            arr[low], arr[mid]= arr[mid], arr[low]\n",
    "            low += 1\n",
    "            mid += 1\n",
    "        elif arr[mid] == 1:\n",
    "            mid += 1\n",
    "        else:\n",
    "            arr[mid], arr[high] = arr[high], arr[mid]\n",
    "            high -= 1\n",
    "    "
   ]
  },
  {
   "cell_type": "code",
   "execution_count": 12,
   "id": "05f959ac-48c5-45bb-ad3b-196011971018",
   "metadata": {},
   "outputs": [
    {
     "name": "stdout",
     "output_type": "stream",
     "text": [
      "[0, 0, 1, 2, 2]\n"
     ]
    }
   ],
   "source": [
    "arr = [0,2,1,2,0]\n",
    "sort012(arr)\n",
    "print(arr)"
   ]
  },
  {
   "cell_type": "code",
   "execution_count": 13,
   "id": "5e99a3c7-a259-406a-b405-d81d5c93b7db",
   "metadata": {},
   "outputs": [
    {
     "name": "stdout",
     "output_type": "stream",
     "text": [
      "[0, 0, 1]\n"
     ]
    }
   ],
   "source": [
    "arr = [0,1,0]\n",
    "sort012(arr)\n",
    "print(arr)"
   ]
  },
  {
   "cell_type": "code",
   "execution_count": 35,
   "id": "aed7e0fc-aecf-47f9-b266-f33fe76f0728",
   "metadata": {},
   "outputs": [
    {
     "name": "stdout",
     "output_type": "stream",
     "text": [
      " The Element is present at index 3\n"
     ]
    }
   ],
   "source": [
    "def binary_search(arr, l, r, x):\n",
    "    if r >= l:\n",
    "        mid = l + (r-l) // 2\n",
    "\n",
    "        if arr[mid] == x:\n",
    "            return mid\n",
    "        elif arr[mid] > x:\n",
    "            return binary_search(arr, l, mid - 1, r, x)\n",
    "        else:\n",
    "            return binary_search(arr, mid + 1, r, x)\n",
    "    else:\n",
    "        return -1\n",
    "arr = [1,2,3,4,5]\n",
    "k=4\n",
    "\n",
    "result = binary_search(arr, 0, len(arr) -1, k)\n",
    "\n",
    "if result != -1:\n",
    "    print(f\" The Element is present at index {result}\")\n",
    "else:\n",
    "    print(\"The Element is not present in the Array\")"
   ]
  },
  {
   "cell_type": "code",
   "execution_count": 34,
   "id": "22b1cf76-9fd2-454a-8850-5a5a27d47354",
   "metadata": {},
   "outputs": [
    {
     "name": "stdout",
     "output_type": "stream",
     "text": [
      "The Element is not present in the Array\n"
     ]
    }
   ],
   "source": [
    "def binary_search(arr, l, r, x):\n",
    "    if r >= l:\n",
    "        mid = l + (r-l) // 2\n",
    "\n",
    "        if arr[mid] == x:\n",
    "            return mid\n",
    "        elif arr[mid] > x:\n",
    "            return binary_search(arr, l, mid - 1, r, x)\n",
    "        else:\n",
    "            return binary_search(arr, mid + 1, r, x)\n",
    "    else:\n",
    "        return -1\n",
    "arr = [11, 22, 33, 44, 55]\n",
    "k=445\n",
    "\n",
    "result = binary_search(arr, 0, len(arr) -1, k)\n",
    "\n",
    "if result != -1:\n",
    "    print(f\" The Element is present at index {result}\")\n",
    "else:\n",
    "    print(\"The Element is not present in the Array\")"
   ]
  }
 ],
 "metadata": {
  "kernelspec": {
   "display_name": "Python 3 (ipykernel)",
   "language": "python",
   "name": "python3"
  },
  "language_info": {
   "codemirror_mode": {
    "name": "ipython",
    "version": 3
   },
   "file_extension": ".py",
   "mimetype": "text/x-python",
   "name": "python",
   "nbconvert_exporter": "python",
   "pygments_lexer": "ipython3",
   "version": "3.12.4"
  }
 },
 "nbformat": 4,
 "nbformat_minor": 5
}
